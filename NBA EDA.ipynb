{
 "cells": [
  {
   "cell_type": "code",
   "execution_count": 284,
   "id": "38f00aec",
   "metadata": {},
   "outputs": [],
   "source": [
    "import sqlite3\n",
    "import pandas as pd\n",
    "import matplotlib.pyplot as plt"
   ]
  },
  {
   "cell_type": "code",
   "execution_count": 285,
   "id": "345f89b6",
   "metadata": {},
   "outputs": [],
   "source": [
    "# Create a SQL connection to our SQLite database\n",
    "con = sqlite3.connect(\"basketball.sqlite\")"
   ]
  },
  {
   "cell_type": "code",
   "execution_count": 286,
   "id": "5240efa7",
   "metadata": {},
   "outputs": [],
   "source": [
    "df_players = pd.read_sql_query('SELECT *, AVG(value) AS salary FROM Player_Salary INNER JOIN Player_Attributes ON Player_Salary.namePlayer = Player_Attributes.DISPLAY_FIRST_LAST GROUP BY namePlayer',con)"
   ]
  },
  {
   "cell_type": "code",
   "execution_count": 287,
   "id": "08f33038",
   "metadata": {},
   "outputs": [
    {
     "data": {
      "text/plain": [
       "slugSeason                            0\n",
       "nameTeam                              0\n",
       "namePlayer                            0\n",
       "statusPlayer                          0\n",
       "isFinalSeason                         0\n",
       "isWaived                              0\n",
       "isOnRoster                            0\n",
       "isNonGuaranteed                       0\n",
       "isTeamOption                          0\n",
       "isPlayerOption                        0\n",
       "typeContractDetail                    0\n",
       "value                                 0\n",
       "ID                                    0\n",
       "FIRST_NAME                            0\n",
       "LAST_NAME                             0\n",
       "DISPLAY_FIRST_LAST                    0\n",
       "DISPLAY_LAST_COMMA_FIRST              0\n",
       "DISPLAY_FI_LAST                       0\n",
       "PLAYER_SLUG                           0\n",
       "BIRTHDATE                             0\n",
       "SCHOOL                                0\n",
       "COUNTRY                               0\n",
       "LAST_AFFILIATION                      0\n",
       "HEIGHT                                0\n",
       "WEIGHT                                0\n",
       "SEASON_EXP                            0\n",
       "JERSEY                                0\n",
       "POSITION                              0\n",
       "ROSTERSTATUS                          0\n",
       "GAMES_PLAYED_CURRENT_SEASON_FLAG      0\n",
       "TEAM_ID                               0\n",
       "TEAM_NAME                             0\n",
       "TEAM_ABBREVIATION                     0\n",
       "TEAM_CODE                             0\n",
       "TEAM_CITY                             0\n",
       "PLAYERCODE                            0\n",
       "FROM_YEAR                             0\n",
       "TO_YEAR                               0\n",
       "DLEAGUE_FLAG                          0\n",
       "NBA_FLAG                              0\n",
       "GAMES_PLAYED_FLAG                     0\n",
       "DRAFT_YEAR                            0\n",
       "DRAFT_ROUND                           0\n",
       "DRAFT_NUMBER                          0\n",
       "PTS                                   0\n",
       "AST                                   0\n",
       "REB                                   0\n",
       "ALL_STAR_APPEARANCES                377\n",
       "PIE                                  38\n",
       "salary                                0\n",
       "dtype: int64"
      ]
     },
     "execution_count": 287,
     "metadata": {},
     "output_type": "execute_result"
    }
   ],
   "source": [
    "df_players.isna().sum()"
   ]
  },
  {
   "cell_type": "markdown",
   "id": "15b534d2",
   "metadata": {},
   "source": [
    "<b> Delete columns columns </b>"
   ]
  },
  {
   "cell_type": "code",
   "execution_count": 288,
   "id": "90d3057f",
   "metadata": {},
   "outputs": [],
   "source": [
    "df_players.drop(['ALL_STAR_APPEARANCES','PIE'],inplace=True,axis = 1)"
   ]
  },
  {
   "cell_type": "markdown",
   "id": "8d963441",
   "metadata": {},
   "source": [
    "<h3> Find the top 10 countries where most players come from (except the USA). </h3>"
   ]
  },
  {
   "cell_type": "code",
   "execution_count": 289,
   "id": "d2d95b4f",
   "metadata": {},
   "outputs": [
    {
     "data": {
      "text/plain": [
       "<AxesSubplot:>"
      ]
     },
     "execution_count": 289,
     "metadata": {},
     "output_type": "execute_result"
    },
    {
     "data": {
      "image/png": "[encoded data removed]",
      "text/plain": [
       "<Figure size 432x288 with 1 Axes>"
      ]
     },
     "metadata": {
      "needs_background": "light"
     },
     "output_type": "display_data"
    }
   ],
   "source": [
    "most_foreigners = df_players['COUNTRY'].value_counts()[1:11]\n",
    "most_foreigners.plot(kind='bar')"
   ]
  },
  {
   "cell_type": "markdown",
   "id": "322e7c78",
   "metadata": {},
   "source": [
    "<h3> Player's positions ratio </h3>"
   ]
  },
  {
   "cell_type": "code",
   "execution_count": 290,
   "id": "77675cb6",
   "metadata": {},
   "outputs": [
    {
     "data": {
      "text/plain": [
       "<AxesSubplot:>"
      ]
     },
     "execution_count": 290,
     "metadata": {},
     "output_type": "execute_result"
    },
    {
     "data": {
      "image/png": "[encoded data removed]",
      "text/plain": [
       "<Figure size 432x288 with 1 Axes>"
      ]
     },
     "metadata": {
      "needs_background": "light"
     },
     "output_type": "display_data"
    }
   ],
   "source": [
    "df_players['POSITION'].replace('Guard-Forward','Forward-Guard',inplace=True)\n",
    "df_players['POSITION'].replace('Center-Forward','Forward-Center',inplace=True)\n",
    "df_players['POSITION'].value_counts()[:-1].plot(kind='bar')"
   ]
  },
  {
   "cell_type": "markdown",
   "id": "e2db0b50",
   "metadata": {},
   "source": [
    "<h3> Average career lifespan </h3>"
   ]
  },
  {
   "cell_type": "code",
   "execution_count": 291,
   "id": "af37fe5f",
   "metadata": {},
   "outputs": [
    {
     "data": {
      "text/plain": [
       "(array([ 84., 103.,  68.,  30.,  48.,  28.,  16.,  21.,  10.,   7.]),\n",
       " array([ 0. ,  1.7,  3.4,  5.1,  6.8,  8.5, 10.2, 11.9, 13.6, 15.3, 17. ]),\n",
       " <BarContainer object of 10 artists>)"
      ]
     },
     "execution_count": 291,
     "metadata": {},
     "output_type": "execute_result"
    },
    {
     "data": {
      "image/png": "[encoded data removed]",
      "text/plain": [
       "<Figure size 432x288 with 1 Axes>"
      ]
     },
     "metadata": {
      "needs_background": "light"
     },
     "output_type": "display_data"
    }
   ],
   "source": [
    "plt.hist(df_players['SEASON_EXP'])"
   ]
  },
  {
   "cell_type": "code",
   "execution_count": 292,
   "id": "f1037617",
   "metadata": {},
   "outputs": [
    {
     "data": {
      "text/plain": [
       "'5.2'"
      ]
     },
     "execution_count": 292,
     "metadata": {},
     "output_type": "execute_result"
    }
   ],
   "source": [
    "\"{:.1f}\".format(df_players['SEASON_EXP'].mean())"
   ]
  },
  {
   "cell_type": "markdown",
   "id": "d025f97b",
   "metadata": {},
   "source": [
    "<h3> Teams which had most players in their team </h3>"
   ]
  },
  {
   "cell_type": "code",
   "execution_count": 293,
   "id": "2d350c1d",
   "metadata": {},
   "outputs": [
    {
     "data": {
      "text/plain": [
       "<AxesSubplot:>"
      ]
     },
     "execution_count": 293,
     "metadata": {},
     "output_type": "execute_result"
    },
    {
     "data": {
      "image/png": "[encoded data removed]",
      "text/plain": [
       "<Figure size 432x288 with 1 Axes>"
      ]
     },
     "metadata": {
      "needs_background": "light"
     },
     "output_type": "display_data"
    }
   ],
   "source": [
    "df_players['TEAM_CODE'].value_counts()[1:11].plot(kind='bar')"
   ]
  },
  {
   "cell_type": "markdown",
   "id": "909b1585",
   "metadata": {},
   "source": [
    "<h3> Most PPG APG and RPG </h3>"
   ]
  },
  {
   "cell_type": "code",
   "execution_count": 294,
   "id": "8467daf6",
   "metadata": {},
   "outputs": [
    {
     "data": {
      "text/html": [
       "<div>\n",
       "<style scoped>\n",
       "    .dataframe tbody tr th:only-of-type {\n",
       "        vertical-align: middle;\n",
       "    }\n",
       "\n",
       "    .dataframe tbody tr th {\n",
       "        vertical-align: top;\n",
       "    }\n",
       "\n",
       "    .dataframe thead th {\n",
       "        text-align: right;\n",
       "    }\n",
       "</style>\n",
       "<table border=\"1\" class=\"dataframe\">\n",
       "  <thead>\n",
       "    <tr style=\"text-align: right;\">\n",
       "      <th></th>\n",
       "      <th>DISPLAY_FI_LAST</th>\n",
       "      <th>PTS</th>\n",
       "    </tr>\n",
       "  </thead>\n",
       "  <tbody>\n",
       "    <tr>\n",
       "      <th>36</th>\n",
       "      <td>B. Beal</td>\n",
       "      <td>31.8</td>\n",
       "    </tr>\n",
       "    <tr>\n",
       "      <th>77</th>\n",
       "      <td>D. Lillard</td>\n",
       "      <td>30.1</td>\n",
       "    </tr>\n",
       "    <tr>\n",
       "      <th>207</th>\n",
       "      <td>J. Embiid</td>\n",
       "      <td>29.9</td>\n",
       "    </tr>\n",
       "    <tr>\n",
       "      <th>147</th>\n",
       "      <td>G. Antetokounmpo</td>\n",
       "      <td>29.0</td>\n",
       "    </tr>\n",
       "    <tr>\n",
       "      <th>366</th>\n",
       "      <td>S. Curry</td>\n",
       "      <td>29.0</td>\n",
       "    </tr>\n",
       "    <tr>\n",
       "      <th>269</th>\n",
       "      <td>L. Doncic</td>\n",
       "      <td>29.0</td>\n",
       "    </tr>\n",
       "    <tr>\n",
       "      <th>244</th>\n",
       "      <td>K. Durant</td>\n",
       "      <td>29.0</td>\n",
       "    </tr>\n",
       "    <tr>\n",
       "      <th>411</th>\n",
       "      <td>Z. LaVine</td>\n",
       "      <td>28.2</td>\n",
       "    </tr>\n",
       "    <tr>\n",
       "      <th>259</th>\n",
       "      <td>K. Irving</td>\n",
       "      <td>28.1</td>\n",
       "    </tr>\n",
       "    <tr>\n",
       "      <th>314</th>\n",
       "      <td>N. Jokic</td>\n",
       "      <td>27.1</td>\n",
       "    </tr>\n",
       "  </tbody>\n",
       "</table>\n",
       "</div>"
      ],
      "text/plain": [
       "      DISPLAY_FI_LAST   PTS\n",
       "36            B. Beal  31.8\n",
       "77         D. Lillard  30.1\n",
       "207         J. Embiid  29.9\n",
       "147  G. Antetokounmpo  29.0\n",
       "366          S. Curry  29.0\n",
       "269         L. Doncic  29.0\n",
       "244         K. Durant  29.0\n",
       "411         Z. LaVine  28.2\n",
       "259         K. Irving  28.1\n",
       "314          N. Jokic  27.1"
      ]
     },
     "execution_count": 294,
     "metadata": {},
     "output_type": "execute_result"
    }
   ],
   "source": [
    "df_players[['DISPLAY_FI_LAST','PTS']].sort_values(by = 'PTS',ascending=False)[:10]"
   ]
  },
  {
   "cell_type": "code",
   "execution_count": 295,
   "id": "836a1af6",
   "metadata": {},
   "outputs": [
    {
     "data": {
      "text/html": [
       "<div>\n",
       "<style scoped>\n",
       "    .dataframe tbody tr th:only-of-type {\n",
       "        vertical-align: middle;\n",
       "    }\n",
       "\n",
       "    .dataframe tbody tr th {\n",
       "        vertical-align: top;\n",
       "    }\n",
       "\n",
       "    .dataframe thead th {\n",
       "        text-align: right;\n",
       "    }\n",
       "</style>\n",
       "<table border=\"1\" class=\"dataframe\">\n",
       "  <thead>\n",
       "    <tr style=\"text-align: right;\">\n",
       "      <th></th>\n",
       "      <th>DISPLAY_FI_LAST</th>\n",
       "      <th>AST</th>\n",
       "    </tr>\n",
       "  </thead>\n",
       "  <tbody>\n",
       "    <tr>\n",
       "      <th>183</th>\n",
       "      <td>J. Harden</td>\n",
       "      <td>11.2</td>\n",
       "    </tr>\n",
       "    <tr>\n",
       "      <th>352</th>\n",
       "      <td>R. Westbrook</td>\n",
       "      <td>10.3</td>\n",
       "    </tr>\n",
       "    <tr>\n",
       "      <th>388</th>\n",
       "      <td>T. Young</td>\n",
       "      <td>9.4</td>\n",
       "    </tr>\n",
       "    <tr>\n",
       "      <th>269</th>\n",
       "      <td>L. Doncic</td>\n",
       "      <td>9.2</td>\n",
       "    </tr>\n",
       "    <tr>\n",
       "      <th>62</th>\n",
       "      <td>C. Paul</td>\n",
       "      <td>8.8</td>\n",
       "    </tr>\n",
       "    <tr>\n",
       "      <th>314</th>\n",
       "      <td>N. Jokic</td>\n",
       "      <td>8.6</td>\n",
       "    </tr>\n",
       "    <tr>\n",
       "      <th>117</th>\n",
       "      <td>D. Green</td>\n",
       "      <td>8.4</td>\n",
       "    </tr>\n",
       "    <tr>\n",
       "      <th>265</th>\n",
       "      <td>L. James</td>\n",
       "      <td>7.9</td>\n",
       "    </tr>\n",
       "    <tr>\n",
       "      <th>77</th>\n",
       "      <td>D. Lillard</td>\n",
       "      <td>7.7</td>\n",
       "    </tr>\n",
       "    <tr>\n",
       "      <th>28</th>\n",
       "      <td>B. Simmons</td>\n",
       "      <td>7.6</td>\n",
       "    </tr>\n",
       "  </tbody>\n",
       "</table>\n",
       "</div>"
      ],
      "text/plain": [
       "    DISPLAY_FI_LAST   AST\n",
       "183       J. Harden  11.2\n",
       "352    R. Westbrook  10.3\n",
       "388        T. Young   9.4\n",
       "269       L. Doncic   9.2\n",
       "62          C. Paul   8.8\n",
       "314        N. Jokic   8.6\n",
       "117        D. Green   8.4\n",
       "265        L. James   7.9\n",
       "77       D. Lillard   7.7\n",
       "28       B. Simmons   7.6"
      ]
     },
     "execution_count": 295,
     "metadata": {},
     "output_type": "execute_result"
    }
   ],
   "source": [
    "df_players[['DISPLAY_FI_LAST','AST']].sort_values(by = 'AST',ascending=False)[:10]"
   ]
  },
  {
   "cell_type": "code",
   "execution_count": 296,
   "id": "a70974a6",
   "metadata": {},
   "outputs": [
    {
     "data": {
      "text/html": [
       "<div>\n",
       "<style scoped>\n",
       "    .dataframe tbody tr th:only-of-type {\n",
       "        vertical-align: middle;\n",
       "    }\n",
       "\n",
       "    .dataframe tbody tr th {\n",
       "        vertical-align: top;\n",
       "    }\n",
       "\n",
       "    .dataframe thead th {\n",
       "        text-align: right;\n",
       "    }\n",
       "</style>\n",
       "<table border=\"1\" class=\"dataframe\">\n",
       "  <thead>\n",
       "    <tr style=\"text-align: right;\">\n",
       "      <th></th>\n",
       "      <th>DISPLAY_FI_LAST</th>\n",
       "      <th>REB</th>\n",
       "    </tr>\n",
       "  </thead>\n",
       "  <tbody>\n",
       "    <tr>\n",
       "      <th>65</th>\n",
       "      <td>C. Capela</td>\n",
       "      <td>14.2</td>\n",
       "    </tr>\n",
       "    <tr>\n",
       "      <th>15</th>\n",
       "      <td>A. Drummond</td>\n",
       "      <td>13.5</td>\n",
       "    </tr>\n",
       "    <tr>\n",
       "      <th>350</th>\n",
       "      <td>R. Gobert</td>\n",
       "      <td>13.4</td>\n",
       "    </tr>\n",
       "    <tr>\n",
       "      <th>213</th>\n",
       "      <td>J. Valanciunas</td>\n",
       "      <td>12.3</td>\n",
       "    </tr>\n",
       "    <tr>\n",
       "      <th>147</th>\n",
       "      <td>G. Antetokounmpo</td>\n",
       "      <td>11.7</td>\n",
       "    </tr>\n",
       "    <tr>\n",
       "      <th>315</th>\n",
       "      <td>N. Vucevic</td>\n",
       "      <td>11.7</td>\n",
       "    </tr>\n",
       "    <tr>\n",
       "      <th>129</th>\n",
       "      <td>E. Kanter</td>\n",
       "      <td>11.6</td>\n",
       "    </tr>\n",
       "    <tr>\n",
       "      <th>207</th>\n",
       "      <td>J. Embiid</td>\n",
       "      <td>11.5</td>\n",
       "    </tr>\n",
       "    <tr>\n",
       "      <th>314</th>\n",
       "      <td>N. Jokic</td>\n",
       "      <td>11.3</td>\n",
       "    </tr>\n",
       "    <tr>\n",
       "      <th>114</th>\n",
       "      <td>D. Sabonis</td>\n",
       "      <td>11.2</td>\n",
       "    </tr>\n",
       "  </tbody>\n",
       "</table>\n",
       "</div>"
      ],
      "text/plain": [
       "      DISPLAY_FI_LAST   REB\n",
       "65          C. Capela  14.2\n",
       "15        A. Drummond  13.5\n",
       "350         R. Gobert  13.4\n",
       "213    J. Valanciunas  12.3\n",
       "147  G. Antetokounmpo  11.7\n",
       "315        N. Vucevic  11.7\n",
       "129         E. Kanter  11.6\n",
       "207         J. Embiid  11.5\n",
       "314          N. Jokic  11.3\n",
       "114        D. Sabonis  11.2"
      ]
     },
     "execution_count": 296,
     "metadata": {},
     "output_type": "execute_result"
    }
   ],
   "source": [
    "df_players[['DISPLAY_FI_LAST','REB']].sort_values(by = 'REB',ascending=False)[:10]"
   ]
  },
  {
   "cell_type": "markdown",
   "id": "f6547ec1",
   "metadata": {},
   "source": [
    "<h3> Highest and heaviest players </h3>"
   ]
  },
  {
   "cell_type": "code",
   "execution_count": 297,
   "id": "b2989d7f",
   "metadata": {},
   "outputs": [
    {
     "data": {
      "text/html": [
       "<div>\n",
       "<style scoped>\n",
       "    .dataframe tbody tr th:only-of-type {\n",
       "        vertical-align: middle;\n",
       "    }\n",
       "\n",
       "    .dataframe tbody tr th {\n",
       "        vertical-align: top;\n",
       "    }\n",
       "\n",
       "    .dataframe thead th {\n",
       "        text-align: right;\n",
       "    }\n",
       "</style>\n",
       "<table border=\"1\" class=\"dataframe\">\n",
       "  <thead>\n",
       "    <tr style=\"text-align: right;\">\n",
       "      <th></th>\n",
       "      <th>DISPLAY_FI_LAST</th>\n",
       "      <th>WEIGHT</th>\n",
       "    </tr>\n",
       "  </thead>\n",
       "  <tbody>\n",
       "    <tr>\n",
       "      <th>370</th>\n",
       "      <td>T. Fall</td>\n",
       "      <td>311.0</td>\n",
       "    </tr>\n",
       "    <tr>\n",
       "      <th>31</th>\n",
       "      <td>B. Marjanovic</td>\n",
       "      <td>290.0</td>\n",
       "    </tr>\n",
       "    <tr>\n",
       "      <th>233</th>\n",
       "      <td>J. Nurkic</td>\n",
       "      <td>290.0</td>\n",
       "    </tr>\n",
       "    <tr>\n",
       "      <th>314</th>\n",
       "      <td>N. Jokic</td>\n",
       "      <td>284.0</td>\n",
       "    </tr>\n",
       "    <tr>\n",
       "      <th>413</th>\n",
       "      <td>Z. Williamson</td>\n",
       "      <td>284.0</td>\n",
       "    </tr>\n",
       "    <tr>\n",
       "      <th>41</th>\n",
       "      <td>B. Lopez</td>\n",
       "      <td>282.0</td>\n",
       "    </tr>\n",
       "    <tr>\n",
       "      <th>343</th>\n",
       "      <td>R. Lopez</td>\n",
       "      <td>281.0</td>\n",
       "    </tr>\n",
       "    <tr>\n",
       "      <th>207</th>\n",
       "      <td>J. Embiid</td>\n",
       "      <td>280.0</td>\n",
       "    </tr>\n",
       "    <tr>\n",
       "      <th>15</th>\n",
       "      <td>A. Drummond</td>\n",
       "      <td>279.0</td>\n",
       "    </tr>\n",
       "    <tr>\n",
       "      <th>14</th>\n",
       "      <td>A. Varejao</td>\n",
       "      <td>273.0</td>\n",
       "    </tr>\n",
       "  </tbody>\n",
       "</table>\n",
       "</div>"
      ],
      "text/plain": [
       "    DISPLAY_FI_LAST  WEIGHT\n",
       "370         T. Fall   311.0\n",
       "31    B. Marjanovic   290.0\n",
       "233       J. Nurkic   290.0\n",
       "314        N. Jokic   284.0\n",
       "413   Z. Williamson   284.0\n",
       "41         B. Lopez   282.0\n",
       "343        R. Lopez   281.0\n",
       "207       J. Embiid   280.0\n",
       "15      A. Drummond   279.0\n",
       "14       A. Varejao   273.0"
      ]
     },
     "execution_count": 297,
     "metadata": {},
     "output_type": "execute_result"
    }
   ],
   "source": [
    "df_players[['DISPLAY_FI_LAST','WEIGHT']].sort_values(by = 'WEIGHT',ascending=False)[:10]"
   ]
  },
  {
   "cell_type": "code",
   "execution_count": 298,
   "id": "b15ac48c",
   "metadata": {},
   "outputs": [
    {
     "data": {
      "text/html": [
       "<div>\n",
       "<style scoped>\n",
       "    .dataframe tbody tr th:only-of-type {\n",
       "        vertical-align: middle;\n",
       "    }\n",
       "\n",
       "    .dataframe tbody tr th {\n",
       "        vertical-align: top;\n",
       "    }\n",
       "\n",
       "    .dataframe thead th {\n",
       "        text-align: right;\n",
       "    }\n",
       "</style>\n",
       "<table border=\"1\" class=\"dataframe\">\n",
       "  <thead>\n",
       "    <tr style=\"text-align: right;\">\n",
       "      <th></th>\n",
       "      <th>DISPLAY_FI_LAST</th>\n",
       "      <th>HEIGHT</th>\n",
       "    </tr>\n",
       "  </thead>\n",
       "  <tbody>\n",
       "    <tr>\n",
       "      <th>370</th>\n",
       "      <td>T. Fall</td>\n",
       "      <td>89.0</td>\n",
       "    </tr>\n",
       "    <tr>\n",
       "      <th>31</th>\n",
       "      <td>B. Marjanovic</td>\n",
       "      <td>88.0</td>\n",
       "    </tr>\n",
       "    <tr>\n",
       "      <th>254</th>\n",
       "      <td>K. Porzingis</td>\n",
       "      <td>87.0</td>\n",
       "    </tr>\n",
       "    <tr>\n",
       "      <th>305</th>\n",
       "      <td>M. Brown</td>\n",
       "      <td>86.0</td>\n",
       "    </tr>\n",
       "    <tr>\n",
       "      <th>272</th>\n",
       "      <td>L. Kornet</td>\n",
       "      <td>86.0</td>\n",
       "    </tr>\n",
       "    <tr>\n",
       "      <th>22</th>\n",
       "      <td>A. Pasecniks</td>\n",
       "      <td>85.0</td>\n",
       "    </tr>\n",
       "    <tr>\n",
       "      <th>350</th>\n",
       "      <td>R. Gobert</td>\n",
       "      <td>85.0</td>\n",
       "    </tr>\n",
       "    <tr>\n",
       "      <th>178</th>\n",
       "      <td>J. Poeltl</td>\n",
       "      <td>85.0</td>\n",
       "    </tr>\n",
       "    <tr>\n",
       "      <th>0</th>\n",
       "      <td>A. Hammons</td>\n",
       "      <td>84.0</td>\n",
       "    </tr>\n",
       "    <tr>\n",
       "      <th>166</th>\n",
       "      <td>I. Zubac</td>\n",
       "      <td>84.0</td>\n",
       "    </tr>\n",
       "  </tbody>\n",
       "</table>\n",
       "</div>"
      ],
      "text/plain": [
       "    DISPLAY_FI_LAST  HEIGHT\n",
       "370         T. Fall    89.0\n",
       "31    B. Marjanovic    88.0\n",
       "254    K. Porzingis    87.0\n",
       "305        M. Brown    86.0\n",
       "272       L. Kornet    86.0\n",
       "22     A. Pasecniks    85.0\n",
       "350       R. Gobert    85.0\n",
       "178       J. Poeltl    85.0\n",
       "0        A. Hammons    84.0\n",
       "166        I. Zubac    84.0"
      ]
     },
     "execution_count": 298,
     "metadata": {},
     "output_type": "execute_result"
    }
   ],
   "source": [
    "df_players[['DISPLAY_FI_LAST','HEIGHT']].sort_values(by = 'HEIGHT',ascending=False)[:10]"
   ]
  },
  {
   "cell_type": "markdown",
   "id": "042b44a9",
   "metadata": {},
   "source": [
    "<h3> Corroletion between height and weight </h3>"
   ]
  },
  {
   "cell_type": "code",
   "execution_count": 299,
   "id": "58df13a9",
   "metadata": {},
   "outputs": [
    {
     "data": {
      "text/html": [
       "<div>\n",
       "<style scoped>\n",
       "    .dataframe tbody tr th:only-of-type {\n",
       "        vertical-align: middle;\n",
       "    }\n",
       "\n",
       "    .dataframe tbody tr th {\n",
       "        vertical-align: top;\n",
       "    }\n",
       "\n",
       "    .dataframe thead th {\n",
       "        text-align: right;\n",
       "    }\n",
       "</style>\n",
       "<table border=\"1\" class=\"dataframe\">\n",
       "  <thead>\n",
       "    <tr style=\"text-align: right;\">\n",
       "      <th></th>\n",
       "      <th>HEIGHT</th>\n",
       "      <th>WEIGHT</th>\n",
       "    </tr>\n",
       "  </thead>\n",
       "  <tbody>\n",
       "    <tr>\n",
       "      <th>HEIGHT</th>\n",
       "      <td>1.000000</td>\n",
       "      <td>0.786299</td>\n",
       "    </tr>\n",
       "    <tr>\n",
       "      <th>WEIGHT</th>\n",
       "      <td>0.786299</td>\n",
       "      <td>1.000000</td>\n",
       "    </tr>\n",
       "  </tbody>\n",
       "</table>\n",
       "</div>"
      ],
      "text/plain": [
       "          HEIGHT    WEIGHT\n",
       "HEIGHT  1.000000  0.786299\n",
       "WEIGHT  0.786299  1.000000"
      ]
     },
     "execution_count": 299,
     "metadata": {},
     "output_type": "execute_result"
    }
   ],
   "source": [
    "df_players[['HEIGHT','WEIGHT']].corr()"
   ]
  },
  {
   "cell_type": "code",
   "execution_count": 300,
   "id": "43b7e125",
   "metadata": {},
   "outputs": [
    {
     "data": {
      "text/plain": [
       "<matplotlib.collections.PathCollection at 0x1933dd60>"
      ]
     },
     "execution_count": 300,
     "metadata": {},
     "output_type": "execute_result"
    },
    {
     "data": {
      "image/png": "[encoded data removed]",
      "text/plain": [
       "<Figure size 432x288 with 1 Axes>"
      ]
     },
     "metadata": {
      "needs_background": "light"
     },
     "output_type": "display_data"
    }
   ],
   "source": [
    "plt.scatter(df_players['HEIGHT'],df_players['WEIGHT'])"
   ]
  },
  {
   "cell_type": "markdown",
   "id": "6c39e018",
   "metadata": {},
   "source": [
    "<b> As can be seen, there is a moderate correlation between weight and height. </b>"
   ]
  },
  {
   "cell_type": "markdown",
   "id": "5ca73307",
   "metadata": {},
   "source": [
    "<h3> Corroletion between Points and experience </h3>"
   ]
  },
  {
   "cell_type": "code",
   "execution_count": 301,
   "id": "a825cb11",
   "metadata": {},
   "outputs": [
    {
     "data": {
      "text/html": [
       "<div>\n",
       "<style scoped>\n",
       "    .dataframe tbody tr th:only-of-type {\n",
       "        vertical-align: middle;\n",
       "    }\n",
       "\n",
       "    .dataframe tbody tr th {\n",
       "        vertical-align: top;\n",
       "    }\n",
       "\n",
       "    .dataframe thead th {\n",
       "        text-align: right;\n",
       "    }\n",
       "</style>\n",
       "<table border=\"1\" class=\"dataframe\">\n",
       "  <thead>\n",
       "    <tr style=\"text-align: right;\">\n",
       "      <th></th>\n",
       "      <th>PTS</th>\n",
       "      <th>SEASON_EXP</th>\n",
       "    </tr>\n",
       "  </thead>\n",
       "  <tbody>\n",
       "    <tr>\n",
       "      <th>PTS</th>\n",
       "      <td>1.00000</td>\n",
       "      <td>0.25293</td>\n",
       "    </tr>\n",
       "    <tr>\n",
       "      <th>SEASON_EXP</th>\n",
       "      <td>0.25293</td>\n",
       "      <td>1.00000</td>\n",
       "    </tr>\n",
       "  </tbody>\n",
       "</table>\n",
       "</div>"
      ],
      "text/plain": [
       "                PTS  SEASON_EXP\n",
       "PTS         1.00000     0.25293\n",
       "SEASON_EXP  0.25293     1.00000"
      ]
     },
     "execution_count": 301,
     "metadata": {},
     "output_type": "execute_result"
    }
   ],
   "source": [
    "df_players[['PTS','SEASON_EXP']].corr()"
   ]
  },
  {
   "cell_type": "code",
   "execution_count": 302,
   "id": "f96e985b",
   "metadata": {},
   "outputs": [
    {
     "data": {
      "text/plain": [
       "<matplotlib.collections.PathCollection at 0x1b33ad90>"
      ]
     },
     "execution_count": 302,
     "metadata": {},
     "output_type": "execute_result"
    },
    {
     "data": {
      "image/png": "[encoded data removed]",
      "text/plain": [
       "<Figure size 432x288 with 1 Axes>"
      ]
     },
     "metadata": {
      "needs_background": "light"
     },
     "output_type": "display_data"
    }
   ],
   "source": [
    "plt.scatter(df_players['PTS'],df_players['SEASON_EXP'])"
   ]
  },
  {
   "cell_type": "markdown",
   "id": "59a78aec",
   "metadata": {},
   "source": [
    "<b> As can be seen, there is a low correlation between Points and experience. </b>"
   ]
  },
  {
   "cell_type": "markdown",
   "id": "c3e2be2d",
   "metadata": {},
   "source": [
    "<h3> Corroletion between Height and Rebound </h3>"
   ]
  },
  {
   "cell_type": "code",
   "execution_count": 303,
   "id": "2db14d77",
   "metadata": {},
   "outputs": [
    {
     "data": {
      "text/html": [
       "<div>\n",
       "<style scoped>\n",
       "    .dataframe tbody tr th:only-of-type {\n",
       "        vertical-align: middle;\n",
       "    }\n",
       "\n",
       "    .dataframe tbody tr th {\n",
       "        vertical-align: top;\n",
       "    }\n",
       "\n",
       "    .dataframe thead th {\n",
       "        text-align: right;\n",
       "    }\n",
       "</style>\n",
       "<table border=\"1\" class=\"dataframe\">\n",
       "  <thead>\n",
       "    <tr style=\"text-align: right;\">\n",
       "      <th></th>\n",
       "      <th>HEIGHT</th>\n",
       "      <th>REB</th>\n",
       "    </tr>\n",
       "  </thead>\n",
       "  <tbody>\n",
       "    <tr>\n",
       "      <th>HEIGHT</th>\n",
       "      <td>1.000000</td>\n",
       "      <td>0.447841</td>\n",
       "    </tr>\n",
       "    <tr>\n",
       "      <th>REB</th>\n",
       "      <td>0.447841</td>\n",
       "      <td>1.000000</td>\n",
       "    </tr>\n",
       "  </tbody>\n",
       "</table>\n",
       "</div>"
      ],
      "text/plain": [
       "          HEIGHT       REB\n",
       "HEIGHT  1.000000  0.447841\n",
       "REB     0.447841  1.000000"
      ]
     },
     "execution_count": 303,
     "metadata": {},
     "output_type": "execute_result"
    }
   ],
   "source": [
    "df_players[['HEIGHT','REB']].corr()"
   ]
  },
  {
   "cell_type": "code",
   "execution_count": 304,
   "id": "8fddb890",
   "metadata": {},
   "outputs": [
    {
     "data": {
      "text/plain": [
       "<matplotlib.collections.PathCollection at 0x192159e8>"
      ]
     },
     "execution_count": 304,
     "metadata": {},
     "output_type": "execute_result"
    },
    {
     "data": {
      "image/png": "[encoded data removed]",
      "text/plain": [
       "<Figure size 432x288 with 1 Axes>"
      ]
     },
     "metadata": {
      "needs_background": "light"
     },
     "output_type": "display_data"
    }
   ],
   "source": [
    "plt.scatter(df_players['HEIGHT'],df_players['REB'])"
   ]
  },
  {
   "cell_type": "markdown",
   "id": "2a4d5f18",
   "metadata": {},
   "source": [
    "<b> As can be seen, there is low correlation between height and rebound  </b>"
   ]
  },
  {
   "cell_type": "markdown",
   "id": "cb69bb04",
   "metadata": {},
   "source": [
    "<h3> Corroletion between salary and experience </h3>"
   ]
  },
  {
   "cell_type": "code",
   "execution_count": 305,
   "id": "3cbfeec3",
   "metadata": {},
   "outputs": [
    {
     "data": {
      "text/html": [
       "<div>\n",
       "<style scoped>\n",
       "    .dataframe tbody tr th:only-of-type {\n",
       "        vertical-align: middle;\n",
       "    }\n",
       "\n",
       "    .dataframe tbody tr th {\n",
       "        vertical-align: top;\n",
       "    }\n",
       "\n",
       "    .dataframe thead th {\n",
       "        text-align: right;\n",
       "    }\n",
       "</style>\n",
       "<table border=\"1\" class=\"dataframe\">\n",
       "  <thead>\n",
       "    <tr style=\"text-align: right;\">\n",
       "      <th></th>\n",
       "      <th>SEASON_EXP</th>\n",
       "      <th>salary</th>\n",
       "    </tr>\n",
       "  </thead>\n",
       "  <tbody>\n",
       "    <tr>\n",
       "      <th>SEASON_EXP</th>\n",
       "      <td>1.000000</td>\n",
       "      <td>0.377478</td>\n",
       "    </tr>\n",
       "    <tr>\n",
       "      <th>salary</th>\n",
       "      <td>0.377478</td>\n",
       "      <td>1.000000</td>\n",
       "    </tr>\n",
       "  </tbody>\n",
       "</table>\n",
       "</div>"
      ],
      "text/plain": [
       "            SEASON_EXP    salary\n",
       "SEASON_EXP    1.000000  0.377478\n",
       "salary        0.377478  1.000000"
      ]
     },
     "execution_count": 305,
     "metadata": {},
     "output_type": "execute_result"
    }
   ],
   "source": [
    "df_players[['SEASON_EXP','salary']].corr()"
   ]
  },
  {
   "cell_type": "code",
   "execution_count": 306,
   "id": "15dce1ca",
   "metadata": {},
   "outputs": [
    {
     "data": {
      "text/plain": [
       "<matplotlib.collections.PathCollection at 0x1cfb2760>"
      ]
     },
     "execution_count": 306,
     "metadata": {},
     "output_type": "execute_result"
    },
    {
     "data": {
      "image/png": "[encoded data removed]",
      "text/plain": [
       "<Figure size 432x288 with 1 Axes>"
      ]
     },
     "metadata": {
      "needs_background": "light"
     },
     "output_type": "display_data"
    }
   ],
   "source": [
    "plt.scatter(df_players['salary'],df_players['SEASON_EXP'])"
   ]
  },
  {
   "cell_type": "markdown",
   "id": "31cbbc33",
   "metadata": {},
   "source": [
    "<b> There is low correlation between salary and experience </b>"
   ]
  },
  {
   "cell_type": "markdown",
   "id": "32527e51",
   "metadata": {},
   "source": [
    "<h3> Corroletion between points and salary </h3>"
   ]
  },
  {
   "cell_type": "code",
   "execution_count": 307,
   "id": "6f6bcf10",
   "metadata": {},
   "outputs": [
    {
     "data": {
      "text/html": [
       "<div>\n",
       "<style scoped>\n",
       "    .dataframe tbody tr th:only-of-type {\n",
       "        vertical-align: middle;\n",
       "    }\n",
       "\n",
       "    .dataframe tbody tr th {\n",
       "        vertical-align: top;\n",
       "    }\n",
       "\n",
       "    .dataframe thead th {\n",
       "        text-align: right;\n",
       "    }\n",
       "</style>\n",
       "<table border=\"1\" class=\"dataframe\">\n",
       "  <thead>\n",
       "    <tr style=\"text-align: right;\">\n",
       "      <th></th>\n",
       "      <th>PTS</th>\n",
       "      <th>salary</th>\n",
       "    </tr>\n",
       "  </thead>\n",
       "  <tbody>\n",
       "    <tr>\n",
       "      <th>PTS</th>\n",
       "      <td>1.00000</td>\n",
       "      <td>0.77095</td>\n",
       "    </tr>\n",
       "    <tr>\n",
       "      <th>salary</th>\n",
       "      <td>0.77095</td>\n",
       "      <td>1.00000</td>\n",
       "    </tr>\n",
       "  </tbody>\n",
       "</table>\n",
       "</div>"
      ],
      "text/plain": [
       "            PTS   salary\n",
       "PTS     1.00000  0.77095\n",
       "salary  0.77095  1.00000"
      ]
     },
     "execution_count": 307,
     "metadata": {},
     "output_type": "execute_result"
    }
   ],
   "source": [
    "df_players[['PTS','salary']].corr()"
   ]
  },
  {
   "cell_type": "code",
   "execution_count": 308,
   "id": "848f6269",
   "metadata": {},
   "outputs": [
    {
     "data": {
      "text/plain": [
       "<matplotlib.collections.PathCollection at 0x194d0478>"
      ]
     },
     "execution_count": 308,
     "metadata": {},
     "output_type": "execute_result"
    },
    {
     "data": {
      "image/png": "[encoded data removed]",
      "text/plain": [
       "<Figure size 432x288 with 1 Axes>"
      ]
     },
     "metadata": {
      "needs_background": "light"
     },
     "output_type": "display_data"
    }
   ],
   "source": [
    "plt.scatter(df_players['salary'],df_players['PTS'])"
   ]
  },
  {
   "cell_type": "markdown",
   "id": "73fc15b5",
   "metadata": {},
   "source": [
    "<b> There is a high correlation between salary and points </b>"
   ]
  }
 ],
 "metadata": {
  "kernelspec": {
   "display_name": "Python 3 (ipykernel)",
   "language": "python",
   "name": "python3"
  },
  "language_info": {
   "codemirror_mode": {
    "name": "ipython",
    "version": 3
   },
   "file_extension": ".py",
   "mimetype": "text/x-python",
   "name": "python",
   "nbconvert_exporter": "python",
   "pygments_lexer": "ipython3",
   "version": "3.8.2"
  }
 },
 "nbformat": 4,
 "nbformat_minor": 5
}
